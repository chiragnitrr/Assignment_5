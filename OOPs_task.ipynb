{
 "cells": [
  {
   "cell_type": "code",
   "execution_count": 1,
   "id": "52f8c107-4df6-44a6-b460-d6dd6a470648",
   "metadata": {},
   "outputs": [],
   "source": [
    "# Q1. Create a vehicle class with an init method having instance variables as name_of_vehicle, max_speed\n",
    "# and average_of_vehicle.\n",
    "\n",
    "# Answer :\n",
    "    \n",
    "class vehicle:\n",
    "    def __init__(self,name_of_vehicle, max_speed, average_of_vehicle):\n",
    "        self.name_of_vehicle = name_of_vehicle\n",
    "        self.max_speed = max_speed\n",
    "        self.average_of_vehicle = average_of_vehicle"
   ]
  },
  {
   "cell_type": "code",
   "execution_count": 2,
   "id": "21b20d85-5e7d-4926-879b-4d28c0026cbb",
   "metadata": {},
   "outputs": [],
   "source": [
    "# Q2. Create a child class car from the vehicle class created in Que 1, which will inherit the vehicle class.\n",
    "# Create a method named seating_capacity which takes capacity as an argument and returns the name of\n",
    "# the vehicle and its seating capacity.\n",
    "\n",
    "# Answer :\n",
    "    \n",
    "class car(vehicle):\n",
    "    def seating_capacity(self,capacity):\n",
    "        self.capacity = capacity\n",
    "        \n",
    "        return self.name_of_vehicle , self.capacity"
   ]
  },
  {
   "cell_type": "code",
   "execution_count": 3,
   "id": "4428265b-a2eb-4601-9242-7c2933ac1102",
   "metadata": {},
   "outputs": [],
   "source": [
    "c = car('thar',200, 35)"
   ]
  },
  {
   "cell_type": "code",
   "execution_count": 4,
   "id": "13b60d08-a722-4ff9-980b-28b1af22186e",
   "metadata": {},
   "outputs": [
    {
     "data": {
      "text/plain": [
       "('thar', 4)"
      ]
     },
     "execution_count": 4,
     "metadata": {},
     "output_type": "execute_result"
    }
   ],
   "source": [
    "c.seating_capacity(4)"
   ]
  },
  {
   "cell_type": "code",
   "execution_count": 5,
   "id": "bff5c015-287a-420e-8a28-f98e8f15f204",
   "metadata": {},
   "outputs": [],
   "source": [
    "# Q3. What is multiple inheritance? Write a python code to demonstrate multiple inheritance.\n",
    "# Answer : When a child class inherit the properties from multiple parent classes is called multiple\n",
    "#          inheritance.\n",
    "    \n",
    "class parent1:\n",
    "    def test_p1(self):\n",
    "        return 'this is from parent 1'\n",
    "    \n",
    "class parent2:\n",
    "    def test_p2(self):\n",
    "        return 'this is from parent 2'\n",
    "    \n",
    "class child(parent1,parent2):\n",
    "    pass\n",
    "\n",
    "# Here child class inherit the properties from classes parent1 and parent2 ."
   ]
  },
  {
   "cell_type": "code",
   "execution_count": 1,
   "id": "138ac35d-7b76-4963-a4b2-ae6c38514f13",
   "metadata": {},
   "outputs": [],
   "source": [
    "# Q4. What are getter and setter in python? Create a class and create a getter and a setter method in this\n",
    "# class.\n",
    "\n",
    "# Answer: \n",
    "#     The main purpose of using getter and setter method in object oriented programming is to ensure the data \n",
    "#     encapsulation. getter and setter are used in pythod when we want to add validation logic around getting\n",
    "#     and setting values. to avoid direct access of class field i.e. private variables and can't be modified\n",
    "#     directly by external user.\n",
    "    \n",
    "class test_details:\n",
    "    def __init__(self,student_name,marks):\n",
    "        self.student_name = student_name\n",
    "        self.__marks = marks\n",
    "        \n",
    "    #getter\n",
    "    @property\n",
    "    def marks_access(self):\n",
    "        return self.__marks\n",
    "    \n",
    "    #setter\n",
    "    @marks_access.setter\n",
    "    def set_marks(self,new_marks):\n",
    "        if new_marks >0 :\n",
    "            self.__marks = new_marks\n",
    "        else :\n",
    "            pass\n",
    "        "
   ]
  },
  {
   "cell_type": "code",
   "execution_count": 2,
   "id": "79d0153a-127b-4dc5-82d4-d61ab4d96c3b",
   "metadata": {},
   "outputs": [],
   "source": [
    "# Q5.What is method overriding in python? Write a python code to demonstrate method overriding.\n",
    "\n",
    "# Answer :\n",
    "#     Method overriding is an ability of an object oriented programming language the provides the special\n",
    "#     implementation of function in chid class which is alredy present in super class or parent class. when \n",
    "#     a function present in child class whith same name , parameter or signature same as present in parent\n",
    "#     class then it is called function override by child class.\n",
    "    \n",
    "class parent:\n",
    "    def show(self):\n",
    "        print(\"this is parent class\")\n",
    "        \n",
    "        \n",
    "class child(parent):\n",
    "    def show(self):\n",
    "        print(\"this is child class\")"
   ]
  },
  {
   "cell_type": "code",
   "execution_count": 3,
   "id": "b9266495-67cd-40ec-888c-6bdf77dec8b8",
   "metadata": {},
   "outputs": [],
   "source": [
    "a = parent()"
   ]
  },
  {
   "cell_type": "code",
   "execution_count": 4,
   "id": "1bf63fb5-dbf3-4c6a-aa18-eb8300c75dc6",
   "metadata": {},
   "outputs": [],
   "source": [
    "b = child()"
   ]
  },
  {
   "cell_type": "code",
   "execution_count": 5,
   "id": "75836ffe-2a18-4e40-acf5-bcecc4500f75",
   "metadata": {},
   "outputs": [
    {
     "name": "stdout",
     "output_type": "stream",
     "text": [
      "this is parent class\n",
      "this is child class\n"
     ]
    }
   ],
   "source": [
    "a.show()\n",
    "b.show()"
   ]
  },
  {
   "cell_type": "code",
   "execution_count": null,
   "id": "36b360fe-10a3-464f-bbde-9e79a6d22526",
   "metadata": {},
   "outputs": [],
   "source": []
  }
 ],
 "metadata": {
  "kernelspec": {
   "display_name": "Python 3 (ipykernel)",
   "language": "python",
   "name": "python3"
  },
  "language_info": {
   "codemirror_mode": {
    "name": "ipython",
    "version": 3
   },
   "file_extension": ".py",
   "mimetype": "text/x-python",
   "name": "python",
   "nbconvert_exporter": "python",
   "pygments_lexer": "ipython3",
   "version": "3.10.8"
  }
 },
 "nbformat": 4,
 "nbformat_minor": 5
}
